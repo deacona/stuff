{
 "cells": [
  {
   "cell_type": "markdown",
   "metadata": {},
   "source": [
    "# Python test\n",
    "\n",
    "TBD"
   ]
  },
  {
   "cell_type": "code",
   "execution_count": null,
   "metadata": {
    "collapsed": true
   },
   "outputs": [],
   "source": []
  },
  {
   "cell_type": "markdown",
   "metadata": {},
   "source": [
    "# SQL test\n",
    "\n",
    "I opted for a SQLLite solution here to keep it simple and portable. See the workings below and then answers at the end..."
   ]
  },
  {
   "cell_type": "code",
   "execution_count": 5,
   "metadata": {
    "collapsed": false
   },
   "outputs": [],
   "source": [
    "import sqlite3\n",
    "db = sqlite3.connect(':memory:')\n",
    "\n",
    "cursor = db.cursor()\n",
    "cursor.execute('''\n",
    "CREATE TABLE prices(product TEXT, price_effective_date DATE, price INT)\n",
    "''')\n",
    "db.commit()\n",
    "\n",
    "prices = [(\"product_1\", \"01/01/2018\", 50),\n",
    "(\"product_2\", \"01/01/2018\", 40),\n",
    "(\"product_1\", \"03/01/2018\", 25),\n",
    "(\"product_2\", \"05/01/2018\", 20),\n",
    "(\"product_1\", \"10/01/2018\", 50),\n",
    "(\"product_2\", \"12/01/2018\", 40)]\n",
    "cursor.executemany('''\n",
    "INSERT INTO prices(product, price_effective_date, price) VALUES(?,?,?)\n",
    "''', prices)\n",
    "db.commit()\n",
    "\n",
    "cursor = db.cursor()\n",
    "cursor.execute('''\n",
    "CREATE TABLE sales(product TEXT, sales_date DATE, quantity INT)\n",
    "''')\n",
    "db.commit()\n",
    "\n",
    "sales = [(\"product_1\", \"01/01/2018\", 10),\n",
    "(\"product_2\", \"02/01/2018\", 12),\n",
    "(\"product_1\", \"04/01/2018\", 50),\n",
    "(\"product_2\", \"06/01/2018\", 70),\n",
    "(\"product_1\", \"12/01/2018\", 8),\n",
    "(\"product_2\", \"15/01/2018\", 9)]\n",
    "\n",
    "cursor.executemany('''\n",
    "INSERT INTO sales(product, sales_date, quantity) VALUES(?,?,?)\n",
    "''', sales)\n",
    "db.commit()\n",
    "\n",
    "total_sql = \"\"\"\n",
    "SELECT SUM(p.price * s.quantity)\n",
    "FROM sales s\n",
    "INNER JOIN (\n",
    "SELECT product, price_effective_date, price\n",
    ", COALESCE(MIN(next_price_effective_date),'99/99/9999') AS next_price_effective_date\n",
    "FROM (\n",
    "SELECT p1.product, p1.price_effective_date, p1.price\n",
    ", p2.price_effective_date AS next_price_effective_date\n",
    "FROM prices p1\n",
    "LEFT OUTER JOIN prices p2\n",
    "ON p1.product = p2.product\n",
    "AND p1.price_effective_date < p2.price_effective_date\n",
    "ORDER by p1.product, p1.price_effective_date\n",
    ") x\n",
    "GROUP BY product, price_effective_date, price\n",
    ") p\n",
    "ON s.product = p.product\n",
    "AND s.sales_date >= p.price_effective_date\n",
    "AND s.sales_date < p.next_price_effective_date\n",
    "\"\"\"\n",
    "\n",
    "cursor.execute(total_sql)\n",
    "total_result = cursor.fetchone()\n",
    "\n",
    "db.close()"
   ]
  },
  {
   "cell_type": "markdown",
   "metadata": {},
   "source": [
    "## Question 1"
   ]
  },
  {
   "cell_type": "code",
   "execution_count": 9,
   "metadata": {
    "collapsed": false
   },
   "outputs": [
    {
     "name": "stdout",
     "output_type": "stream",
     "text": [
      "[(4390,)]\n"
     ]
    }
   ],
   "source": [
    "print(total_result)"
   ]
  },
  {
   "cell_type": "markdown",
   "metadata": {},
   "source": [
    "## Question 2"
   ]
  },
  {
   "cell_type": "code",
   "execution_count": 7,
   "metadata": {
    "collapsed": false
   },
   "outputs": [
    {
     "name": "stdout",
     "output_type": "stream",
     "text": [
      "\n",
      "SELECT SUM(p.price * s.quantity)\n",
      "FROM sales s\n",
      "INNER JOIN (\n",
      "SELECT product, price_effective_date, price\n",
      ", COALESCE(MIN(next_price_effective_date),'99/99/9999') AS next_price_effective_date\n",
      "FROM (\n",
      "SELECT p1.product, p1.price_effective_date, p1.price\n",
      ", p2.price_effective_date AS next_price_effective_date\n",
      "FROM prices p1\n",
      "LEFT OUTER JOIN prices p2\n",
      "ON p1.product = p2.product\n",
      "AND p1.price_effective_date < p2.price_effective_date\n",
      "ORDER by p1.product, p1.price_effective_date\n",
      ") x\n",
      "GROUP BY product, price_effective_date, price\n",
      ") p\n",
      "ON s.product = p.product\n",
      "AND s.sales_date >= p.price_effective_date\n",
      "AND s.sales_date < p.next_price_effective_date\n",
      "\n"
     ]
    }
   ],
   "source": [
    "print(total_sql)"
   ]
  }
 ],
 "metadata": {
  "kernelspec": {
   "display_name": "Python 2",
   "language": "python",
   "name": "python2"
  },
  "language_info": {
   "codemirror_mode": {
    "name": "ipython",
    "version": 2
   },
   "file_extension": ".py",
   "mimetype": "text/x-python",
   "name": "python",
   "nbconvert_exporter": "python",
   "pygments_lexer": "ipython2",
   "version": "2.7.13"
  }
 },
 "nbformat": 4,
 "nbformat_minor": 2
}
