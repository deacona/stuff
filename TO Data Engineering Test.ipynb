{
 "cells": [
  {
   "cell_type": "markdown",
   "metadata": {},
   "source": [
    "# Python test\n",
    "\n",
    "I'm using a Jupyter Nootbook for ease of sharing and nice display features. Obviously the below code can be pasted into a Python module and accessed through other interfaces."
   ]
  },
  {
   "cell_type": "code",
   "execution_count": 5,
   "metadata": {
    "collapsed": false,
    "scrolled": false
   },
   "outputs": [
    {
     "name": "stdout",
     "output_type": "stream",
     "text": [
      "\n",
      "Places to go:\n",
      "* Spice of life\n",
      "* The Cambridge\n",
      "\n",
      "Places to avoid:\n",
      "* El Cantina\n",
      "  * There is nothing for Robert Webb to drink\n",
      "  * There is nothing for Bobby Robson to eat\n",
      "* Twin Dynasty\n",
      "  * There is nothing for David Lang to eat\n",
      "* Wagamama\n",
      "  * There is nothing for Robert Webb to drink\n",
      "* Sultan Sofrasi\n",
      "  * There is nothing for Robert Webb to drink\n",
      "* Spirit House\n",
      "  * There is nothing for Alan Allen to drink\n",
      "* Tally Joe\n",
      "  * There is nothing for Robert Webb to drink\n",
      "* Fabrique\n",
      "  * There is nothing for Robert Webb to drink\n",
      "  * There is nothing for David Lang to drink\n"
     ]
    }
   ],
   "source": [
    "import requests\n",
    "\n",
    "# get users\n",
    "users_download = requests.get('https://gist.githubusercontent.com/benjambles/ea36b76bc5d8ff09a51def54f6ebd0cb/raw/524e40ec297353b8070ff10ee0d9d847e44210f5/users.json')\n",
    "users = eval(users_download.text)\n",
    "# print(users)\n",
    "\n",
    "# get venues\n",
    "venues_download = requests.get('https://gist.githubusercontent.com/benjambles/ea36b76bc5d8ff09a51def54f6ebd0cb/raw/524e40ec297353b8070ff10ee0d9d847e44210f5/venues.json')\n",
    "venues = eval(venues_download.text)\n",
    "# print(venues)\n",
    "\n",
    "places_to_go = []\n",
    "places_to_avoid = []\n",
    "\n",
    "# loop through venues\n",
    "for venue in venues:\n",
    "#     print(venue[\"name\"])\n",
    "    reasons = []\n",
    "    \n",
    "    # loop through users\n",
    "    for user in users:\n",
    "        # make foods and drinks all lowercase for comparison\n",
    "        venue_foods = [x.lower() for x in venue[\"food\"]]\n",
    "        user_foods = [x.lower() for x in user[\"wont_eat\"]]\n",
    "        venue_drinks = [x.lower() for x in venue[\"drinks\"]]\n",
    "        user_drinks = [x.lower() for x in user[\"drinks\"]]\n",
    "        \n",
    "        # list people who cannot eat any food\n",
    "#         print(\"compare {0} to {1} for {2}\".format(venue[\"food\"], user[\"wont_eat\"], user[\"name\"]))\n",
    "        rejected_foods = set(venue_foods).intersection(user_foods)\n",
    "        if set(venue_foods) == rejected_foods:\n",
    "            reason = \"There is nothing for {0} to eat\".format(user[\"name\"])\n",
    "#             print(\"{0} - see {1} vs {2}\".format(reason, venue[\"food\"], user[\"wont_eat\"]))\n",
    "            reasons.append(reason)\n",
    "        \n",
    "        # list people who cannot find a drink they like\n",
    "#         print(\"compare {0} to {1} for {2}\".format(venue[\"drinks\"], user[\"drinks\"], user[\"name\"]))\n",
    "        selected_drinks = set(venue_drinks).intersection(user_drinks)\n",
    "        if not selected_drinks:\n",
    "            reason = \"There is nothing for {0} to drink\".format(user[\"name\"])\n",
    "#             print(\"{0} - see {1} vs {2}\".format(reason, venue[\"drinks\"], user[\"drinks\"]))\n",
    "            reasons.append(reason)\n",
    "        \n",
    "    \n",
    "    # if any reason not to go, add to places to avoid\n",
    "    if reasons:\n",
    "        item = {\n",
    "            \"Name\": venue[\"name\"],\n",
    "            \"Reasons\": reasons,\n",
    "        }\n",
    "        places_to_avoid.append(item)\n",
    "    # otherwise, add to places to go\n",
    "    else:\n",
    "        item = {\n",
    "            \"Name\": venue[\"name\"],\n",
    "        }\n",
    "        places_to_go.append(item)\n",
    "        \n",
    "# display places to go\n",
    "print(\"\\nPlaces to go:\")\n",
    "for place in places_to_go:\n",
    "    print \"* {0}\".format(place[\"Name\"])\n",
    "\n",
    "# display places to avoid\n",
    "print(\"\\nPlaces to avoid:\")\n",
    "for place in places_to_avoid:\n",
    "    print \"* {0}\".format(place[\"Name\"])\n",
    "    for reason in place[\"Reasons\"]:\n",
    "        print \"  * {0}\".format(reason)\n"
   ]
  },
  {
   "cell_type": "markdown",
   "metadata": {},
   "source": [
    "# SQL test\n",
    "\n",
    "I opted for a SQLLite solution here to keep it simple and portable. See the workings below and then answers at the end..."
   ]
  },
  {
   "cell_type": "code",
   "execution_count": 2,
   "metadata": {
    "collapsed": false
   },
   "outputs": [],
   "source": [
    "import sqlite3\n",
    "db = sqlite3.connect(':memory:')\n",
    "\n",
    "# create prices table\n",
    "cursor = db.cursor()\n",
    "cursor.execute('''\n",
    "CREATE TABLE prices(product TEXT, price_effective_date DATE, price INT)\n",
    "''')\n",
    "db.commit()\n",
    "\n",
    "# populate prices table\n",
    "prices = [(\"product_1\", \"01/01/2018\", 50),\n",
    "(\"product_2\", \"01/01/2018\", 40),\n",
    "(\"product_1\", \"03/01/2018\", 25),\n",
    "(\"product_2\", \"05/01/2018\", 20),\n",
    "(\"product_1\", \"10/01/2018\", 50),\n",
    "(\"product_2\", \"12/01/2018\", 40)]\n",
    "cursor.executemany('''\n",
    "INSERT INTO prices(product, price_effective_date, price) VALUES(?,?,?)\n",
    "''', prices)\n",
    "db.commit()\n",
    "\n",
    "# create sales table\n",
    "cursor = db.cursor()\n",
    "cursor.execute('''\n",
    "CREATE TABLE sales(product TEXT, sales_date DATE, quantity INT)\n",
    "''')\n",
    "db.commit()\n",
    "\n",
    "# populate sales table table\n",
    "sales = [(\"product_1\", \"01/01/2018\", 10),\n",
    "(\"product_2\", \"02/01/2018\", 12),\n",
    "(\"product_1\", \"04/01/2018\", 50),\n",
    "(\"product_2\", \"06/01/2018\", 70),\n",
    "(\"product_1\", \"12/01/2018\", 8),\n",
    "(\"product_2\", \"15/01/2018\", 9)]\n",
    "cursor.executemany('''\n",
    "INSERT INTO sales(product, sales_date, quantity) VALUES(?,?,?)\n",
    "''', sales)\n",
    "db.commit()\n",
    "\n",
    "# calculate total revenue\n",
    "total_sql = \"\"\"\n",
    "SELECT SUM(p.price * s.quantity)\n",
    "FROM sales s\n",
    "INNER JOIN (\n",
    "SELECT product, price_effective_date, price\n",
    ", COALESCE(MIN(next_price_effective_date),'99/99/9999') AS next_price_effective_date\n",
    "FROM (\n",
    "SELECT p1.product, p1.price_effective_date, p1.price\n",
    ", p2.price_effective_date AS next_price_effective_date\n",
    "FROM prices p1\n",
    "LEFT OUTER JOIN prices p2\n",
    "ON p1.product = p2.product\n",
    "AND p1.price_effective_date < p2.price_effective_date\n",
    "ORDER by p1.product, p1.price_effective_date\n",
    ") x\n",
    "GROUP BY product, price_effective_date, price\n",
    ") p\n",
    "ON s.product = p.product\n",
    "AND s.sales_date >= p.price_effective_date\n",
    "AND s.sales_date < p.next_price_effective_date\n",
    "\"\"\"\n",
    "cursor.execute(total_sql)\n",
    "total_result = cursor.fetchone()\n",
    "\n",
    "db.close()"
   ]
  },
  {
   "cell_type": "markdown",
   "metadata": {},
   "source": [
    "## Question 1"
   ]
  },
  {
   "cell_type": "code",
   "execution_count": 7,
   "metadata": {
    "collapsed": false
   },
   "outputs": [
    {
     "name": "stdout",
     "output_type": "stream",
     "text": [
      "(4390,)\n"
     ]
    }
   ],
   "source": [
    "print(total_result)"
   ]
  },
  {
   "cell_type": "markdown",
   "metadata": {},
   "source": [
    "## Question 2"
   ]
  },
  {
   "cell_type": "code",
   "execution_count": 4,
   "metadata": {
    "collapsed": false
   },
   "outputs": [
    {
     "name": "stdout",
     "output_type": "stream",
     "text": [
      "\n",
      "SELECT SUM(p.price * s.quantity)\n",
      "FROM sales s\n",
      "INNER JOIN (\n",
      "SELECT product, price_effective_date, price\n",
      ", COALESCE(MIN(next_price_effective_date),'99/99/9999') AS next_price_effective_date\n",
      "FROM (\n",
      "SELECT p1.product, p1.price_effective_date, p1.price\n",
      ", p2.price_effective_date AS next_price_effective_date\n",
      "FROM prices p1\n",
      "LEFT OUTER JOIN prices p2\n",
      "ON p1.product = p2.product\n",
      "AND p1.price_effective_date < p2.price_effective_date\n",
      "ORDER by p1.product, p1.price_effective_date\n",
      ") x\n",
      "GROUP BY product, price_effective_date, price\n",
      ") p\n",
      "ON s.product = p.product\n",
      "AND s.sales_date >= p.price_effective_date\n",
      "AND s.sales_date < p.next_price_effective_date\n",
      "\n"
     ]
    }
   ],
   "source": [
    "print(total_sql)"
   ]
  }
 ],
 "metadata": {
  "kernelspec": {
   "display_name": "Python 2",
   "language": "python",
   "name": "python2"
  },
  "language_info": {
   "codemirror_mode": {
    "name": "ipython",
    "version": 2
   },
   "file_extension": ".py",
   "mimetype": "text/x-python",
   "name": "python",
   "nbconvert_exporter": "python",
   "pygments_lexer": "ipython2",
   "version": "2.7.13"
  }
 },
 "nbformat": 4,
 "nbformat_minor": 2
}
