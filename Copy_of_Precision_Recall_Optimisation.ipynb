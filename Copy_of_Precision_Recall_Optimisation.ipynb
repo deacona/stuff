{
  "nbformat": 4,
  "nbformat_minor": 0,
  "metadata": {
    "colab": {
      "name": "Copy of Precision/Recall Optimisation.ipynb",
      "provenance": [],
      "collapsed_sections": [],
      "include_colab_link": true
    },
    "kernelspec": {
      "name": "python3",
      "display_name": "Python 3"
    }
  },
  "cells": [
    {
      "cell_type": "markdown",
      "metadata": {
        "id": "view-in-github",
        "colab_type": "text"
      },
      "source": [
        "<a href=\"https://colab.research.google.com/github/deacona/stuff/blob/master/Copy_of_Precision_Recall_Optimisation.ipynb\" target=\"_parent\"><img src=\"https://colab.research.google.com/assets/colab-badge.svg\" alt=\"Open In Colab\"/></a>"
      ]
    },
    {
      "cell_type": "markdown",
      "metadata": {
        "id": "Q7tUhI8TJI_z",
        "colab_type": "text"
      },
      "source": [
        "# Precision/Recall Optimisation\n",
        "This notebook will walk you through the process of building a Machine Learning model for predicting if a patient **has pneumonia** or **not** based on their X-ray image.\n",
        "\n",
        "Then you will be tasked with optiising the model for **precision** or **recall** based on your desired application.\n",
        "\n",
        "![alt text](https://raw.githubusercontent.com/ZackAkil/machine-learning-trenches-and-highways/master/misc/xray.png)\n",
        "\n",
        "Learning outcomes:\n",
        "\n",
        "1.   Importing data and building an image classifier\n",
        "2.   Getting raw score predictions and class predictions\n",
        "3.   Visualising model performance using a confusion matrix\n",
        "4.   🌟Optimising model decision threshold using Precision/Recall scores\n",
        "5.   Deploying a model using your desired decision threshold."
      ]
    },
    {
      "cell_type": "code",
      "metadata": {
        "id": "aHj71S48JP8Q",
        "colab_type": "code",
        "cellView": "form",
        "outputId": "8fe97e30-4146-43cf-aeba-956f6f6a5e93",
        "colab": {
          "base_uri": "https://localhost:8080/",
          "height": 34
        }
      },
      "source": [
        "#@title 1. Run this code to check-in to the workshop \n",
        "\n",
        "#@markdown Give yourself a unique **student id** and then *click on the* ▶ *button* on the left:\n",
        "\n",
        "STUDENT_ID = \"Adam D\" #@param {type:\"string\"}\n",
        "\n",
        "if STUDENT_ID:\n",
        "\n",
        "  import requests\n",
        "\n",
        "  WORKSHOP_ID = \"CLDS1_PR\"\n",
        "\n",
        "  def submit_answer(task_id, answer):\n",
        "    submission_url = 'https://us-central1-remote-workshop.cloudfunctions.net/workshop_submission'\n",
        "    r = requests.post(submission_url, json={\"workshop_id\": WORKSHOP_ID,\n",
        "                                      \"student_id\": STUDENT_ID,\n",
        "                                      \"task_id\": task_id,\n",
        "                                      \"answer\": str(answer)})\n",
        "    output = r.text\n",
        "    if (r.text == 'sorry') or not r.ok:\n",
        "      print('❌ Oops, that answer isnt quite right')\n",
        "    else:\n",
        "      print('✔️ Correct! You can progress to the next section')\n",
        "\n",
        "\n",
        "  sign_in_url = 'https://us-central1-remote-workshop.cloudfunctions.net/workshop_checkin'\n",
        "  r = requests.post(sign_in_url, json={\"workshop_id\": WORKSHOP_ID,\n",
        "                                      \"student_id\":STUDENT_ID})\n",
        "\n",
        "  print(r.text)\n",
        "else:\n",
        "  print('⚠️ Please enter in your student name/id')"
      ],
      "execution_count": 0,
      "outputs": [
        {
          "output_type": "stream",
          "text": [
            "student checked into workshop\n"
          ],
          "name": "stdout"
        }
      ]
    },
    {
      "cell_type": "markdown",
      "metadata": {
        "id": "_a79wVUhNAbU",
        "colab_type": "text"
      },
      "source": [
        "### 2. Let's test to see that everything is working"
      ]
    },
    {
      "cell_type": "code",
      "metadata": {
        "id": "9Yp7k2ZZKJJ0",
        "colab_type": "code",
        "outputId": "a72d998c-2b99-4d79-e4fc-b1f831a52b00",
        "colab": {
          "base_uri": "https://localhost:8080/",
          "height": 51
        }
      },
      "source": [
        "# [TASK] Fill in the answer to the ultimate question\n",
        "# YOUR CODE STARTS HERE\n",
        "\n",
        "two_plus_two = 4\n",
        "\n",
        "# YOUR CODE ENDS HERE\n",
        "\n",
        "print(two_plus_two)\n",
        "submit_answer('task_1', two_plus_two)"
      ],
      "execution_count": 0,
      "outputs": [
        {
          "output_type": "stream",
          "text": [
            "4\n",
            "✔️ Correct! You can progress to the next section\n"
          ],
          "name": "stdout"
        }
      ]
    },
    {
      "cell_type": "markdown",
      "metadata": {
        "id": "u6Ndf7N0wxMH",
        "colab_type": "text"
      },
      "source": [
        "## 3. Download dataset\n",
        "We have the dataset of x-ray images and labels stored remotly.\n",
        "Run the following cell to download to data into the notebook."
      ]
    },
    {
      "cell_type": "code",
      "metadata": {
        "id": "AhkQ1j6Jo7-v",
        "colab_type": "code",
        "outputId": "1711d498-d07a-451c-9ec7-6defd003166d",
        "colab": {
          "base_uri": "https://localhost:8080/",
          "height": 102
        }
      },
      "source": [
        "!gsutil cp gs://meetup-datasets/pneumonia.obj .\n",
        "\n",
        "import os.path\n",
        "\n",
        "# check if dataset file exists\n",
        "if os.path.isfile('pneumonia.obj'):\n",
        "    print('exists')\n",
        "    submit_answer('task_2', 1)\n",
        "else:\n",
        "    print('missing, try downloading the data again')\n",
        "    submit_answer('task_2', 0)"
      ],
      "execution_count": 0,
      "outputs": [
        {
          "output_type": "stream",
          "text": [
            "Copying gs://meetup-datasets/pneumonia.obj...\n",
            "\\ [1 files][ 97.7 MiB/ 97.7 MiB]                                                \n",
            "Operation completed over 1 objects/97.7 MiB.                                     \n",
            "exists\n",
            "✔️ Correct! You can progress to the next section\n"
          ],
          "name": "stdout"
        }
      ]
    },
    {
      "cell_type": "markdown",
      "metadata": {
        "id": "PbXlp5z_w4Ds",
        "colab_type": "text"
      },
      "source": [
        "## 4. Load data "
      ]
    },
    {
      "cell_type": "markdown",
      "metadata": {
        "id": "SANlYVY_MyuJ",
        "colab_type": "text"
      },
      "source": [
        "Read dataset into the python environment by specifying the file name of the dataset (`pneumonias.obj`). \n",
        "\n"
      ]
    },
    {
      "cell_type": "code",
      "metadata": {
        "id": "P6V48riievPu",
        "colab_type": "code",
        "outputId": "5f5393f6-c4d6-466d-ceaa-64012cce9823",
        "colab": {
          "base_uri": "https://localhost:8080/",
          "height": 51
        }
      },
      "source": [
        "import numpy as np\n",
        "import pickle \n",
        "\n",
        "# [TASK] Specifying the filename of the dataset\n",
        "# YOUR CODE STARTS HERE\n",
        "\n",
        "file_name = \"pneumonia.obj\"\n",
        "\n",
        "# YOUR CODE ENDS HERE\n",
        "\n",
        "print(file_name)\n",
        "submit_answer('task_3', file_name)\n",
        "\n",
        "# open dataset file\n",
        "with open(file_name, 'rb') as file: \n",
        "  data = pickle.load(file)  "
      ],
      "execution_count": 0,
      "outputs": [
        {
          "output_type": "stream",
          "text": [
            "pneumonia.obj\n",
            "✔️ Correct! You can progress to the next section\n"
          ],
          "name": "stdout"
        }
      ]
    },
    {
      "cell_type": "markdown",
      "metadata": {
        "id": "wIUC8wRtw84i",
        "colab_type": "text"
      },
      "source": [
        "## 5. Make our `input` and `output` data variables"
      ]
    },
    {
      "cell_type": "code",
      "metadata": {
        "id": "ymo1oNPCe_KH",
        "colab_type": "code",
        "colab": {}
      },
      "source": [
        "# get the input images and assign them to X\n",
        "X = data['images']\n",
        "\n",
        "# get the output labels and assign them to y\n",
        "y = data['labels']"
      ],
      "execution_count": 0,
      "outputs": []
    },
    {
      "cell_type": "markdown",
      "metadata": {
        "id": "_4aq3hj7qWgH",
        "colab_type": "text"
      },
      "source": [
        "## 6. Let's look at the `shape` of our data "
      ]
    },
    {
      "cell_type": "code",
      "metadata": {
        "id": "Pjl9C1xXxucM",
        "colab_type": "code",
        "outputId": "e8445abe-0359-4d30-8c16-459e3b35f5c4",
        "colab": {
          "base_uri": "https://localhost:8080/",
          "height": 34
        }
      },
      "source": [
        "# get the shape of the input data\n",
        "X.shape"
      ],
      "execution_count": 0,
      "outputs": [
        {
          "output_type": "execute_result",
          "data": {
            "text/plain": [
              "(2000, 80, 80, 1)"
            ]
          },
          "metadata": {
            "tags": []
          },
          "execution_count": 7
        }
      ]
    },
    {
      "cell_type": "code",
      "metadata": {
        "id": "lMI15kOlxvpG",
        "colab_type": "code",
        "outputId": "4dd87e62-19c5-4f31-a4fa-5de483ae1384",
        "colab": {
          "base_uri": "https://localhost:8080/",
          "height": 51
        }
      },
      "source": [
        "# [TASK] get the shape of the output data (y) and assign it to output_shape\n",
        "# YOUR CODE STARTS HERE\n",
        "\n",
        "output_shape = y.shape\n",
        "\n",
        "# YOUR CODE ENDS HERE\n",
        "\n",
        "print(output_shape)\n",
        "submit_answer('task_4', output_shape)"
      ],
      "execution_count": 0,
      "outputs": [
        {
          "output_type": "stream",
          "text": [
            "(2000,)\n",
            "✔️ Correct! You can progress to the next section\n"
          ],
          "name": "stdout"
        }
      ]
    },
    {
      "cell_type": "markdown",
      "metadata": {
        "id": "CsIv1OZmxFLj",
        "colab_type": "text"
      },
      "source": [
        "## 7. Look at some of the images"
      ]
    },
    {
      "cell_type": "code",
      "metadata": {
        "id": "6v7kBNULxL8V",
        "colab_type": "code",
        "outputId": "c9ef5a50-9d4a-4aa3-9a7e-1616c54515f5",
        "colab": {
          "base_uri": "https://localhost:8080/",
          "height": 268
        }
      },
      "source": [
        "# import data viz package\n",
        "import matplotlib.pyplot as plt\n",
        "\n",
        "# get first image\n",
        "first_image = X[0,:,:,0]\n",
        "\n",
        "# display image\n",
        "plt.imshow(first_image, cmap='gray')\n",
        "plt.show()"
      ],
      "execution_count": 0,
      "outputs": [
        {
          "output_type": "display_data",
          "data": {
            "image/png": "[encoded data removed]",
            "text/plain": [
              "<Figure size 432x288 with 1 Axes>"
            ]
          },
          "metadata": {
            "tags": []
          }
        }
      ]
    },
    {
      "cell_type": "code",
      "metadata": {
        "id": "OydVMQ_srjGv",
        "colab_type": "code",
        "cellView": "form",
        "outputId": "f028a0bd-e4ec-4ed7-ae45-af84cd7aa9d7",
        "colab": {
          "base_uri": "https://localhost:8080/",
          "height": 34
        }
      },
      "source": [
        "#@markdown How many images are there?\n",
        "number_of_images =  2000#@param {type:\"integer\"}\n",
        "submit_answer('task_5', number_of_images)"
      ],
      "execution_count": 0,
      "outputs": [
        {
          "output_type": "stream",
          "text": [
            "✔️ Correct! You can progress to the next section\n"
          ],
          "name": "stdout"
        }
      ]
    },
    {
      "cell_type": "code",
      "metadata": {
        "colab_type": "code",
        "cellView": "form",
        "id": "4hdU18aQr8hK",
        "outputId": "442906d1-832a-4257-dbe9-179c4790bfe9",
        "colab": {
          "base_uri": "https://localhost:8080/",
          "height": 34
        }
      },
      "source": [
        "#@markdown How many pixels wide are the images?\n",
        "image_width =  80#@param {type:\"integer\"}\n",
        "submit_answer('task_6', image_width)"
      ],
      "execution_count": 0,
      "outputs": [
        {
          "output_type": "stream",
          "text": [
            "✔️ Correct! You can progress to the next section\n"
          ],
          "name": "stdout"
        }
      ]
    },
    {
      "cell_type": "code",
      "metadata": {
        "id": "RVd-DJ53sfTr",
        "colab_type": "code",
        "cellView": "form",
        "outputId": "d68333d4-fa7c-417b-e34c-c344725b9a23",
        "colab": {
          "base_uri": "https://localhost:8080/",
          "height": 34
        }
      },
      "source": [
        "#@markdown How many pixels tall are the images?\n",
        "image_height =  80#@param {type:\"integer\"}\n",
        "submit_answer('task_7', image_height)"
      ],
      "execution_count": 0,
      "outputs": [
        {
          "output_type": "stream",
          "text": [
            "✔️ Correct! You can progress to the next section\n"
          ],
          "name": "stdout"
        }
      ]
    },
    {
      "cell_type": "code",
      "metadata": {
        "id": "G9sEBw7lsk0R",
        "colab_type": "code",
        "cellView": "form",
        "outputId": "55e2ab52-8774-4f30-c963-dfc3b67a107c",
        "colab": {
          "base_uri": "https://localhost:8080/",
          "height": 34
        }
      },
      "source": [
        "#@markdown How many channels of colour are there in the images?\n",
        "colour_channels =  1#@param {type:\"integer\"}\n",
        "submit_answer('task_8', colour_channels)"
      ],
      "execution_count": 0,
      "outputs": [
        {
          "output_type": "stream",
          "text": [
            "✔️ Correct! You can progress to the next section\n"
          ],
          "name": "stdout"
        }
      ]
    },
    {
      "cell_type": "markdown",
      "metadata": {
        "id": "amRxopbSs6aU",
        "colab_type": "text"
      },
      "source": [
        "## 8. Let's look at the corrisponding label for the image displayed above."
      ]
    },
    {
      "cell_type": "code",
      "metadata": {
        "id": "9_3cJjkbxXCo",
        "colab_type": "code",
        "outputId": "4787e595-6cfd-44e6-f5db-6d41f1d43b1c",
        "colab": {
          "base_uri": "https://localhost:8080/",
          "height": 34
        }
      },
      "source": [
        "# get the first label\n",
        "first_label = y[0]\n",
        "first_label"
      ],
      "execution_count": 0,
      "outputs": [
        {
          "output_type": "execute_result",
          "data": {
            "text/plain": [
              "0.0"
            ]
          },
          "metadata": {
            "tags": []
          },
          "execution_count": 15
        }
      ]
    },
    {
      "cell_type": "markdown",
      "metadata": {
        "id": "ROy_VgWrtUld",
        "colab_type": "text"
      },
      "source": [
        "In our dataset:\n",
        "\n",
        "`1` =  `pneumonia`\n",
        "\n",
        "`0` = `no pneumonia (normal)` \n",
        "\n",
        "So that first image conatains **no pneumonia**"
      ]
    },
    {
      "cell_type": "code",
      "metadata": {
        "id": "sqbef7S4xbZX",
        "colab_type": "code",
        "outputId": "2957a85f-0d41-42c6-9b46-c4f85f43cea7",
        "colab": {
          "base_uri": "https://localhost:8080/",
          "height": 268
        }
      },
      "source": [
        "# diplsay the last image in our dataset\n",
        "\n",
        "last_image = X[-1,:,:,0]\n",
        "plt.imshow(last_image, cmap='gray')\n",
        "plt.show()"
      ],
      "execution_count": 0,
      "outputs": [
        {
          "output_type": "display_data",
          "data": {
            "image/png": "[encoded data removed]",
            "text/plain": [
              "<Figure size 432x288 with 1 Axes>"
            ]
          },
          "metadata": {
            "tags": []
          }
        }
      ]
    },
    {
      "cell_type": "code",
      "metadata": {
        "id": "TEkvSsGJxn3a",
        "colab_type": "code",
        "outputId": "b6b8acc5-9f15-4b99-c465-70fb16b35174",
        "colab": {
          "base_uri": "https://localhost:8080/",
          "height": 34
        }
      },
      "source": [
        "# get the corrisponding label\n",
        "last_label = y[-1]\n",
        "last_label"
      ],
      "execution_count": 0,
      "outputs": [
        {
          "output_type": "execute_result",
          "data": {
            "text/plain": [
              "1.0"
            ]
          },
          "metadata": {
            "tags": []
          },
          "execution_count": 17
        }
      ]
    },
    {
      "cell_type": "code",
      "metadata": {
        "id": "JZUlABOEuLKJ",
        "colab_type": "code",
        "cellView": "form",
        "outputId": "fb7f6217-4959-44c7-d807-bcd4d16b2e3a",
        "colab": {
          "base_uri": "https://localhost:8080/",
          "height": 51
        }
      },
      "source": [
        "#@title 9. What is the label/class for the last image?\n",
        "image_label = \"pneumonia\" #@param [\"pneumonia\", \"no pneumonia\", \"[select an option]\"]\n",
        "print(image_label)\n",
        "submit_answer('task_9', image_label)"
      ],
      "execution_count": 0,
      "outputs": [
        {
          "output_type": "stream",
          "text": [
            "pneumonia\n",
            "✔️ Correct! You can progress to the next section\n"
          ],
          "name": "stdout"
        }
      ]
    },
    {
      "cell_type": "markdown",
      "metadata": {
        "id": "owOivdgqu3iD",
        "colab_type": "text"
      },
      "source": [
        "## 10. Let's see how many of each label we have"
      ]
    },
    {
      "cell_type": "code",
      "metadata": {
        "id": "xBsgG8JORHQu",
        "colab_type": "code",
        "outputId": "d69994d6-ec00-467d-ecfb-68cada089893",
        "colab": {
          "base_uri": "https://localhost:8080/",
          "height": 51
        }
      },
      "source": [
        "# count the frequency of each label\n",
        "number_of_pneumonia = (y==1).sum()\n",
        "number_of_normal = (y==0).sum()\n",
        "\n",
        "print('number of pneumonia images:',number_of_pneumonia)\n",
        "print('number of normal images:',number_of_normal)"
      ],
      "execution_count": 0,
      "outputs": [
        {
          "output_type": "stream",
          "text": [
            "number of pneumonia images: 1000\n",
            "number of normal images: 1000\n"
          ],
          "name": "stdout"
        }
      ]
    },
    {
      "cell_type": "markdown",
      "metadata": {
        "id": "lBG3lXmNvbxH",
        "colab_type": "text"
      },
      "source": [
        "# 11. Quick summary:\n",
        "We have just imported our dataset of 2000 input images that are each 80x80 resolution and single channel (grayscale). We also have corresponding labels of 0's and 1's where `0 = normal`, and `1 = pneumonia`. There is an equal balance of normal and pneumonia images (1000 normal, 1000 pneumonia). "
      ]
    },
    {
      "cell_type": "markdown",
      "metadata": {
        "id": "paZu3DifQ9Fm",
        "colab_type": "text"
      },
      "source": [
        "\n",
        "\n",
        "---\n",
        "\n"
      ]
    },
    {
      "cell_type": "markdown",
      "metadata": {
        "id": "MsBrUtkzx1CQ",
        "colab_type": "text"
      },
      "source": [
        "## 12. Split data into `train` and `test` datasets\n",
        "We will partition our data (`X` and `y`) into a `train` set that our neural network will learn, and a `test` set that we will use to test if our neural network did in fact learn how to recognise pneumonia."
      ]
    },
    {
      "cell_type": "code",
      "metadata": {
        "id": "BQ4kERYkfZ1N",
        "colab_type": "code",
        "colab": {}
      },
      "source": [
        "# import package that will do the train/test split of our data\n",
        "from sklearn.model_selection import train_test_split\n",
        "\n",
        "# split out data\n",
        "X_train, X_test, y_train, y_test = train_test_split(\n",
        "    X, y, test_size=0.3, random_state=42)"
      ],
      "execution_count": 0,
      "outputs": []
    },
    {
      "cell_type": "markdown",
      "metadata": {
        "id": "aRUPLtBAyAcB",
        "colab_type": "text"
      },
      "source": [
        "## 13. Build Neural Network for predicting based on our images\n",
        "We will now create our neural network (the specific type of NN is a *Convolutional Neural Network for Binary Classification*)."
      ]
    },
    {
      "cell_type": "code",
      "metadata": {
        "id": "YlvQVFDRfdTx",
        "colab_type": "code",
        "colab": {}
      },
      "source": [
        "# import packages for building a neural network\n",
        "from tensorflow.keras.models import Sequential\n",
        "from tensorflow.keras.layers import Conv2D, Dense, Flatten"
      ],
      "execution_count": 0,
      "outputs": []
    },
    {
      "cell_type": "markdown",
      "metadata": {
        "id": "Tl4SuljIytGO",
        "colab_type": "text"
      },
      "source": [
        "Here we will define the layers of our neural network, what each of these do is out of scope for this lesson, but you can see that the first layer has `input_shape=(80, 80, 1)` which you might remember being the resolution and colour channels of our images.\n",
        "\n",
        "The last layer is `Dense(1, activation='sigmoid')` which is what we use to tell the neural network to predict a number between 0 or 1. If you are curious you can look up what a \"**sigmoid function**\" is and you can maybe see why we use it in predicting 0 or 1 problems (Binary Classification)."
      ]
    },
    {
      "cell_type": "code",
      "metadata": {
        "id": "SKjnBZCUfey5",
        "colab_type": "code",
        "colab": {}
      },
      "source": [
        "# create our neural network model\n",
        "model = Sequential()\n",
        "\n",
        "# define each layer \n",
        "model.add(Conv2D(32, kernel_size=(3, 3),\n",
        "                 activation='relu',\n",
        "                 input_shape=(80, 80, 1)))\n",
        "model.add(Conv2D(32, (3, 3), activation='relu'))\n",
        "model.add(Conv2D(32, (3, 3), activation='relu'))\n",
        "model.add(Flatten())\n",
        "model.add(Dense(64, activation='relu'))\n",
        "model.add(Dense(1, activation='sigmoid'))"
      ],
      "execution_count": 0,
      "outputs": []
    },
    {
      "cell_type": "code",
      "metadata": {
        "id": "ApGDbRt9fgZk",
        "colab_type": "code",
        "colab": {}
      },
      "source": [
        "# compile model our model\n",
        "model.compile(loss='binary_crossentropy',\n",
        "              optimizer='Adam',\n",
        "              metrics=['accuracy'])"
      ],
      "execution_count": 0,
      "outputs": []
    },
    {
      "cell_type": "code",
      "metadata": {
        "id": "I1cg594x0sjt",
        "colab_type": "code",
        "cellView": "form",
        "outputId": "ddbd9063-d216-453e-a850-c3b622194e45",
        "colab": {
          "base_uri": "https://localhost:8080/",
          "height": 51
        }
      },
      "source": [
        "#@title What is the input to the neural network model?\n",
        "model_input = \"80x80 grayscale image (80, 80, 1)\" #@param [\"60x60 colour image (60, 60, 3)\", \"80x80 colour image (80, 80, 3)\", \"90x90 colour image (90, 90, 3)\", \"60x60 grayscale image (60, 60, 1)\", \"80x80 grayscale image (80, 80, 1)\", \"90x90 grayscale image (90, 90, 1)\", \"[select an option]\"]\n",
        "print(model_input)\n",
        "submit_answer('task_10', model_input)"
      ],
      "execution_count": 0,
      "outputs": [
        {
          "output_type": "stream",
          "text": [
            "80x80 grayscale image (80, 80, 1)\n",
            "✔️ Correct! You can progress to the next section\n"
          ],
          "name": "stdout"
        }
      ]
    },
    {
      "cell_type": "code",
      "metadata": {
        "id": "rgej-OQy1tOP",
        "colab_type": "code",
        "cellView": "form",
        "outputId": "21dc0b0f-c4a8-4083-b108-0d7e07f26059",
        "colab": {
          "base_uri": "https://localhost:8080/",
          "height": 51
        }
      },
      "source": [
        "#@title What is the output of the neural network model? \n",
        "model_output = \"a number between 0 and 1 inclusive (0 \\u003C= value \\u003C=1)\" #@param [\"either \\\"normal\\\" or \\\"pneumonia\\\"\", \"either 1 or 0\", \"a number between 0 and 1 inclusive (0 \\u003C= value \\u003C=1)\", \"[select an option]\"]\n",
        "print(model_output)\n",
        "submit_answer('task_11', model_output)"
      ],
      "execution_count": 0,
      "outputs": [
        {
          "output_type": "stream",
          "text": [
            "a number between 0 and 1 inclusive (0 <= value <=1)\n",
            "✔️ Correct! You can progress to the next section\n"
          ],
          "name": "stdout"
        }
      ]
    },
    {
      "cell_type": "markdown",
      "metadata": {
        "id": "VgnyhJ0lyK7Z",
        "colab_type": "text"
      },
      "source": [
        "## 14. Train our Neural Network using our training dataset"
      ]
    },
    {
      "cell_type": "code",
      "metadata": {
        "id": "tJI38kQXftqf",
        "colab_type": "code",
        "outputId": "7864f4c9-420c-4b52-dbc3-a0a305e167a9",
        "colab": {
          "base_uri": "https://localhost:8080/",
          "height": 122
        }
      },
      "source": [
        "# train the model for 2 epochs with our training data, and test using our test data \n",
        "training_job = model.fit(X_train, y_train,\n",
        "                        validation_data=(X_test, y_test),\n",
        "                        epochs=2)\n",
        "submit_answer('task_12', 'completed training')"
      ],
      "execution_count": 0,
      "outputs": [
        {
          "output_type": "stream",
          "text": [
            "Epoch 1/2\n",
            "44/44 [==============================] - 38s 859ms/step - loss: 0.9674 - accuracy: 0.6243 - val_loss: 0.3754 - val_accuracy: 0.8500\n",
            "Epoch 2/2\n",
            "44/44 [==============================] - 37s 847ms/step - loss: 0.3094 - accuracy: 0.8650 - val_loss: 0.3094 - val_accuracy: 0.8767\n",
            "✔️ Correct! You can progress to the next section\n"
          ],
          "name": "stdout"
        }
      ]
    },
    {
      "cell_type": "markdown",
      "metadata": {
        "id": "udGv3u25ySro",
        "colab_type": "text"
      },
      "source": [
        "## 15. Look at the performance of the model change whilst training"
      ]
    },
    {
      "cell_type": "code",
      "metadata": {
        "id": "HRBRt0edfvOy",
        "colab_type": "code",
        "outputId": "e13a4cf2-e0e3-49a8-992d-7ae1f1571dac",
        "colab": {
          "base_uri": "https://localhost:8080/",
          "height": 269
        }
      },
      "source": [
        "# extract the accuracy on our training data (accuracy) and the accuracy on our\n",
        "# test data (val_accuracy) as our model was training/learning\n",
        "train_score = training_job.history['accuracy']\n",
        "test_score = training_job.history['val_accuracy']\n",
        "\n",
        "# plot scores\n",
        "plt.plot(train_score, c='b', label='Train Score')\n",
        "plt.plot(test_score, c='r', label='Test Score')\n",
        "plt.ylim(0,1)\n",
        "plt.legend()\n",
        "plt.show()"
      ],
      "execution_count": 0,
      "outputs": [
        {
          "output_type": "display_data",
          "data": {
            "image/png": "[encoded data removed]",
            "text/plain": [
              "<Figure size 432x288 with 1 Axes>"
            ]
          },
          "metadata": {
            "tags": []
          }
        }
      ]
    },
    {
      "cell_type": "markdown",
      "metadata": {
        "id": "CLGNyKHpyd_c",
        "colab_type": "text"
      },
      "source": [
        "### 16. Let's make a prediction on a single image"
      ]
    },
    {
      "cell_type": "code",
      "metadata": {
        "id": "Z7Tk-YuAzW4w",
        "colab_type": "code",
        "outputId": "a9a8f8f4-a47d-4d0f-ceb7-2cc53198c73b",
        "colab": {
          "base_uri": "https://localhost:8080/",
          "height": 34
        }
      },
      "source": [
        "# let's look at the shape of a single image\n",
        "X_test[0].shape"
      ],
      "execution_count": 0,
      "outputs": [
        {
          "output_type": "execute_result",
          "data": {
            "text/plain": [
              "(80, 80, 1)"
            ]
          },
          "metadata": {
            "tags": []
          },
          "execution_count": 28
        }
      ]
    },
    {
      "cell_type": "code",
      "metadata": {
        "id": "nqISORiszUxN",
        "colab_type": "code",
        "outputId": "e2ad343f-b11a-4a43-8479-0ffc54744217",
        "colab": {
          "base_uri": "https://localhost:8080/",
          "height": 34
        }
      },
      "source": [
        "# keras is expecting a list of images (even when you only want to predict on one)\n",
        "# so we need to add an extra dimension onto our image. It's silly but necessary.\n",
        "np.expand_dims(X_test[0], axis=0).shape"
      ],
      "execution_count": 0,
      "outputs": [
        {
          "output_type": "execute_result",
          "data": {
            "text/plain": [
              "(1, 80, 80, 1)"
            ]
          },
          "metadata": {
            "tags": []
          },
          "execution_count": 29
        }
      ]
    },
    {
      "cell_type": "code",
      "metadata": {
        "id": "F6eNu5sQnkjH",
        "colab_type": "code",
        "outputId": "ecb7acb5-ca63-45ed-85e0-521ab20aa65e",
        "colab": {
          "base_uri": "https://localhost:8080/",
          "height": 285
        }
      },
      "source": [
        "# view the image we are about to predict on\n",
        "plt.imshow(X_test[0,:,:,0], cmap='gray')\n",
        "plt.show()\n",
        "\n",
        "# get prediction\n",
        "model.predict(np.expand_dims(X_test[0], axis=0))"
      ],
      "execution_count": 0,
      "outputs": [
        {
          "output_type": "display_data",
          "data": {
            "image/png": "[encoded data removed]",
            "text/plain": [
              "<Figure size 432x288 with 1 Axes>"
            ]
          },
          "metadata": {
            "tags": []
          }
        },
        {
          "output_type": "execute_result",
          "data": {
            "text/plain": [
              "array([[0.9304816]], dtype=float32)"
            ]
          },
          "metadata": {
            "tags": []
          },
          "execution_count": 30
        }
      ]
    },
    {
      "cell_type": "code",
      "metadata": {
        "id": "4z6uq4pJ_WRC",
        "colab_type": "code",
        "cellView": "form",
        "outputId": "d07390b1-a579-4d7f-ec98-a454e11c6e53",
        "colab": {
          "base_uri": "https://localhost:8080/",
          "height": 51
        }
      },
      "source": [
        "#@title What is the prediction output from model? \n",
        "predict_output = \"a decimal number\" #@param [\"a decimal number\", \"either 1 or 0\", \"[select an option]\"]\n",
        "print(predict_output)\n",
        "submit_answer('task_13', predict_output)"
      ],
      "execution_count": 0,
      "outputs": [
        {
          "output_type": "stream",
          "text": [
            "a decimal number\n",
            "✔️ Correct! You can progress to the next section\n"
          ],
          "name": "stdout"
        }
      ]
    },
    {
      "cell_type": "markdown",
      "metadata": {
        "id": "q7VtplZcAgEd",
        "colab_type": "text"
      },
      "source": [
        "## 17. Let's call the `predict_classes` to get a binary output."
      ]
    },
    {
      "cell_type": "code",
      "metadata": {
        "id": "JScZTrEUoCil",
        "colab_type": "code",
        "outputId": "428c68b7-0959-419b-cd5a-c248c032b71a",
        "colab": {
          "base_uri": "https://localhost:8080/",
          "height": 105
        }
      },
      "source": [
        "model.predict_classes(np.expand_dims(X_test[0], axis=0))"
      ],
      "execution_count": 0,
      "outputs": [
        {
          "output_type": "stream",
          "text": [
            "WARNING:tensorflow:From <ipython-input-32-fbf05728aa10>:1: Sequential.predict_classes (from tensorflow.python.keras.engine.sequential) is deprecated and will be removed after 2021-01-01.\n",
            "Instructions for updating:\n",
            "Please use instead:* `np.argmax(model.predict(x), axis=-1)`,   if your model does multi-class classification   (e.g. if it uses a `softmax` last-layer activation).* `(model.predict(x) > 0.5).astype(\"int32\")`,   if your model does binary classification   (e.g. if it uses a `sigmoid` last-layer activation).\n"
          ],
          "name": "stdout"
        },
        {
          "output_type": "execute_result",
          "data": {
            "text/plain": [
              "array([[1]], dtype=int32)"
            ]
          },
          "metadata": {
            "tags": []
          },
          "execution_count": 32
        }
      ]
    },
    {
      "cell_type": "code",
      "metadata": {
        "id": "heOS0cEuBcOU",
        "colab_type": "code",
        "cellView": "form",
        "outputId": "bcc6b11d-7174-4d27-9c27-a00e9ddc5dd8",
        "colab": {
          "base_uri": "https://localhost:8080/",
          "height": 51
        }
      },
      "source": [
        "#@title What is the decision threshold used in the `predict_classes` function? \n",
        "threshold = \"0.5\" #@param [\"0.0\", \"0.1\", \"0.2\", \"0.3\", \"0.4\", \"0.5\", \"0.6\", \"0.7\", \"0.8\", \"0.9\", \"1.0\", \"[select an option]\"]\n",
        "print(threshold)\n",
        "submit_answer('task_14', threshold)"
      ],
      "execution_count": 0,
      "outputs": [
        {
          "output_type": "stream",
          "text": [
            "0.5\n",
            "✔️ Correct! You can progress to the next section\n"
          ],
          "name": "stdout"
        }
      ]
    },
    {
      "cell_type": "markdown",
      "metadata": {
        "id": "pJx0-_w7A2LY",
        "colab_type": "text"
      },
      "source": [
        "### Let's compare the the prediction against the actual answer:"
      ]
    },
    {
      "cell_type": "code",
      "metadata": {
        "id": "tGsvz8rayvLx",
        "colab_type": "code",
        "outputId": "db02a9e0-5488-4f61-91ac-9807b4b7e9fb",
        "colab": {
          "base_uri": "https://localhost:8080/",
          "height": 34
        }
      },
      "source": [
        "# get the true label stored in y_test\n",
        "y_test[0]"
      ],
      "execution_count": 0,
      "outputs": [
        {
          "output_type": "execute_result",
          "data": {
            "text/plain": [
              "1.0"
            ]
          },
          "metadata": {
            "tags": []
          },
          "execution_count": 34
        }
      ]
    },
    {
      "cell_type": "markdown",
      "metadata": {
        "id": "N3l3sg6i0c0W",
        "colab_type": "text"
      },
      "source": [
        "## 18. Show the probablities/confidence of pneumonia on 20 images from the test data"
      ]
    },
    {
      "cell_type": "code",
      "metadata": {
        "id": "Akt5NAtQgJiG",
        "colab_type": "code",
        "outputId": "a61b34f2-bce1-4211-9c04-e21357c88896",
        "colab": {
          "base_uri": "https://localhost:8080/",
          "height": 296
        }
      },
      "source": [
        "data_to_predict = X_test[:200]\n",
        "probabilitie_of_pneumonia = model.predict(data_to_predict)\n",
        "\n",
        "print('each line represents a single image')\n",
        "\n",
        "plt.scatter(probabilitie_of_pneumonia, np.zeros(len(data_to_predict)),marker='|', alpha=0.5, s=500)\n",
        "plt.xlim(0,1)\n",
        "plt.xlabel('Probability of Pneumonia (raw neural network output)')\n",
        "plt.show()\n",
        "\n",
        "if len(probabilitie_of_pneumonia) < 50:\n",
        "  print(probabilitie_of_pneumonia)"
      ],
      "execution_count": 0,
      "outputs": [
        {
          "output_type": "stream",
          "text": [
            "each line represents a single image\n"
          ],
          "name": "stdout"
        },
        {
          "output_type": "display_data",
          "data": {
            "image/png": "[encoded data removed]",
            "text/plain": [
              "<Figure size 432x288 with 1 Axes>"
            ]
          },
          "metadata": {
            "tags": []
          }
        }
      ]
    },
    {
      "cell_type": "markdown",
      "metadata": {
        "id": "E0svpbFb0px8",
        "colab_type": "text"
      },
      "source": [
        "# 19. Show what classification those images would get"
      ]
    },
    {
      "cell_type": "code",
      "metadata": {
        "id": "7L9W7xGF0z_4",
        "colab_type": "code",
        "outputId": "386ba50c-e37f-49d3-f0b0-13f5f66acb89",
        "colab": {
          "base_uri": "https://localhost:8080/",
          "height": 279
        }
      },
      "source": [
        "class_predictions = model.predict_classes(data_to_predict)\n",
        "\n",
        "plt.scatter(probabilitie_of_pneumonia[class_predictions == 1], \n",
        "            np.zeros(len(probabilitie_of_pneumonia))[ (class_predictions ==1 ).squeeze()],\n",
        "            marker='|', alpha=0.8, s=500, label='Pneumonia', c='r')\n",
        "\n",
        "plt.scatter(probabilitie_of_pneumonia[class_predictions == 0], \n",
        "            np.zeros(len(probabilitie_of_pneumonia))[(class_predictions == 0).squeeze()],\n",
        "            marker='|', alpha=0.8, s=500, label='Normal', c='g')\n",
        "\n",
        "plt.legend()\n",
        "plt.xlim(0,1)\n",
        "plt.xlabel('Probability of Pneumonia')\n",
        "\n",
        "# draw the decision threshold boundary\n",
        "plt.axvline(0.5, linestyle='dashed',c='black')\n",
        "\n",
        "plt.show()"
      ],
      "execution_count": 0,
      "outputs": [
        {
          "output_type": "display_data",
          "data": {
            "image/png": "[encoded data removed]",
            "text/plain": [
              "<Figure size 432x288 with 1 Axes>"
            ]
          },
          "metadata": {
            "tags": []
          }
        }
      ]
    },
    {
      "cell_type": "markdown",
      "metadata": {
        "id": "y6POPxKn3Ew8",
        "colab_type": "text"
      },
      "source": [
        "## 20. Let's look at the confusion matrix  "
      ]
    },
    {
      "cell_type": "code",
      "metadata": {
        "id": "I4Cg_tubgvUx",
        "colab_type": "code",
        "outputId": "4c9f0627-af93-4f97-96e9-b9f242dcedd3",
        "colab": {
          "base_uri": "https://localhost:8080/",
          "height": 71
        }
      },
      "source": [
        "# import package that will generate the confusion matrix scores\n",
        "from sklearn.metrics import confusion_matrix\n",
        "# import packages that will help display the scores\n",
        "import seaborn as sns\n",
        "import pandas as pd"
      ],
      "execution_count": 0,
      "outputs": [
        {
          "output_type": "stream",
          "text": [
            "/usr/local/lib/python3.6/dist-packages/statsmodels/tools/_testing.py:19: FutureWarning: pandas.util.testing is deprecated. Use the functions in the public API at pandas.testing instead.\n",
            "  import pandas.util.testing as tm\n"
          ],
          "name": "stderr"
        }
      ]
    },
    {
      "cell_type": "code",
      "metadata": {
        "id": "yOYi46CSgacc",
        "colab_type": "code",
        "outputId": "9d23b13d-7774-4b89-91be-c31ebac797c9",
        "colab": {
          "base_uri": "https://localhost:8080/",
          "height": 269
        }
      },
      "source": [
        "# generate confusion matrix scores\n",
        "confusion_matrix_scores = confusion_matrix(y_test, model.predict_classes(X_test), labels=[1, 0])\n",
        "\n",
        "# display scores as a heatmap\n",
        "df = pd.DataFrame(confusion_matrix_scores, \n",
        "                  columns = [\"Predicted Pneumonia\", \"Predicted Normal\"],\n",
        "                  index = [\"Actually Pneumonia\", \"Actually Normal\"])\n",
        "\n",
        "sns.heatmap(df, annot=True, fmt=\"d\", cmap=\"YlGnBu\")\n",
        "plt.show()"
      ],
      "execution_count": 0,
      "outputs": [
        {
          "output_type": "display_data",
          "data": {
            "image/png": "[encoded data removed]",
            "text/plain": [
              "<Figure size 432x288 with 2 Axes>"
            ]
          },
          "metadata": {
            "tags": []
          }
        }
      ]
    },
    {
      "cell_type": "code",
      "metadata": {
        "id": "NbGrICjWL9j0",
        "colab_type": "code",
        "cellView": "form",
        "outputId": "1b481265-0ae4-46e6-fc71-42a1697ff404",
        "colab": {
          "base_uri": "https://localhost:8080/",
          "height": 51
        }
      },
      "source": [
        "#@title What is the **top-left** quadrant showing?\n",
        "top_left = \"true positives\" #@param [\"false positives\", \"true positives\", \"false negatives\", \"true negatives\", \"[select an option]\"]\n",
        "print(top_left)\n",
        "submit_answer('task_15', top_left)\n"
      ],
      "execution_count": 0,
      "outputs": [
        {
          "output_type": "stream",
          "text": [
            "true positives\n",
            "✔️ Correct! You can progress to the next section\n"
          ],
          "name": "stdout"
        }
      ]
    },
    {
      "cell_type": "code",
      "metadata": {
        "id": "4hgjD02tMqOA",
        "colab_type": "code",
        "cellView": "form",
        "outputId": "97c3bfd3-11e6-4412-c129-2967ce7613ab",
        "colab": {
          "base_uri": "https://localhost:8080/",
          "height": 51
        }
      },
      "source": [
        "#@title What is the **top-right** quadrant showing?\n",
        "top_right = \"false negatives\" #@param [\"false positives\", \"true positives\", \"false negatives\", \"true negatives\", \"[select an option]\"]\n",
        "print(top_right)\n",
        "submit_answer('task_16', top_right)"
      ],
      "execution_count": 0,
      "outputs": [
        {
          "output_type": "stream",
          "text": [
            "false negatives\n",
            "✔️ Correct! You can progress to the next section\n"
          ],
          "name": "stdout"
        }
      ]
    },
    {
      "cell_type": "code",
      "metadata": {
        "id": "ciHgTEKPMvZQ",
        "colab_type": "code",
        "cellView": "form",
        "outputId": "b545166c-9937-4d56-df25-dfc80a9913d2",
        "colab": {
          "base_uri": "https://localhost:8080/",
          "height": 51
        }
      },
      "source": [
        "#@title What is the **bottom-left** quadrant showing?\n",
        "bottom_left = \"false positives\" #@param [\"false positives\", \"true positives\", \"false negatives\", \"true negatives\", \"[select an option]\"]\n",
        "print(bottom_left)\n",
        "submit_answer('task_17', bottom_left)"
      ],
      "execution_count": 0,
      "outputs": [
        {
          "output_type": "stream",
          "text": [
            "false positives\n",
            "✔️ Correct! You can progress to the next section\n"
          ],
          "name": "stdout"
        }
      ]
    },
    {
      "cell_type": "code",
      "metadata": {
        "id": "iuxTOKpfM5UT",
        "colab_type": "code",
        "cellView": "form",
        "outputId": "0a765ee9-721d-4e23-d3b8-b2daaf379072",
        "colab": {
          "base_uri": "https://localhost:8080/",
          "height": 51
        }
      },
      "source": [
        "#@title What is the **bottom-right** quadrant showing?\n",
        "bottom_right = \"true negatives\" #@param [\"false positives\", \"true positives\", \"false negatives\", \"true negatives\", \"[select an option]\"]\n",
        "print(bottom_right)\n",
        "submit_answer('task_18', bottom_right)"
      ],
      "execution_count": 0,
      "outputs": [
        {
          "output_type": "stream",
          "text": [
            "true negatives\n",
            "✔️ Correct! You can progress to the next section\n"
          ],
          "name": "stdout"
        }
      ]
    },
    {
      "cell_type": "markdown",
      "metadata": {
        "id": "u5lH7xFe7BNf",
        "colab_type": "text"
      },
      "source": [
        "# 21. Lets calulate the Precision and Recall"
      ]
    },
    {
      "cell_type": "code",
      "metadata": {
        "id": "6994I5DXgsWF",
        "colab_type": "code",
        "outputId": "42e69882-0c53-4fc3-f5d3-1289253c6727",
        "colab": {
          "base_uri": "https://localhost:8080/",
          "height": 51
        }
      },
      "source": [
        "tp, fn, fp, tn = confusion_matrix_scores.ravel()\n",
        "\n",
        "precision = tp / ( tp + fp )\n",
        "recall =  tp / ( tp + fn )\n",
        "\n",
        "print('precision -', precision)\n",
        "print('recall -', recall)"
      ],
      "execution_count": 0,
      "outputs": [
        {
          "output_type": "stream",
          "text": [
            "precision - 0.9516129032258065\n",
            "recall - 0.7919463087248322\n"
          ],
          "name": "stdout"
        }
      ]
    },
    {
      "cell_type": "markdown",
      "metadata": {
        "id": "1pxkyoTi7GuG",
        "colab_type": "text"
      },
      "source": [
        "## 22. Let's alter the prediction boundary threshold"
      ]
    },
    {
      "cell_type": "code",
      "metadata": {
        "id": "iOw2y5htEtCw",
        "colab_type": "code",
        "colab": {}
      },
      "source": [
        "prediction_probabilities = model.predict(X_test)"
      ],
      "execution_count": 0,
      "outputs": []
    },
    {
      "cell_type": "code",
      "metadata": {
        "id": "wPXwGiRshHEU",
        "colab_type": "code",
        "cellView": "form",
        "outputId": "32374a5c-19a7-40a3-883e-b35e9dd40f36",
        "colab": {
          "base_uri": "https://localhost:8080/",
          "height": 565
        }
      },
      "source": [
        "#@title Move the threshold between 0 and 1 and see how the confusion matrix and precision/recall scores at the bottom change. { run: \"auto\" }\n",
        "THRESHOLD = 0.2 #@param {type:\"slider\", min:0, max:1, step:0.1}\n",
        "\n",
        "# THRESHOLD = 0.9\n",
        "prediction_classes = prediction_probabilities>THRESHOLD\n",
        "\n",
        "# generate confusion matrix scores\n",
        "confusion_matrix_scores = confusion_matrix(y_test, prediction_classes, labels=[1, 0])\n",
        "\n",
        "# display scores as a heatmap\n",
        "df = pd.DataFrame(confusion_matrix_scores, \n",
        "                  columns = [\"Predicted Pneumonia\", \"Predicted Normal\"],\n",
        "                  index = [\"Actually Pneumonia\", \"Actually Normal\"])\n",
        "\n",
        "sns.heatmap(df, annot=True, fmt=\"d\", cmap=\"YlGnBu\")\n",
        "plt.show()\n",
        "\n",
        "\n",
        "# plt.scatter(prediction_probabilities, np.zeros(len(prediction_probabilities)),marker='|', alpha=0.5, s=500)\n",
        "# plt.xlim(0,1)\n",
        "# plt.xlabel('Probibility of Pneumonia')\n",
        "# plt.show()\n",
        "\n",
        "# display how the test images are being classified based on their probabilities\n",
        "plt.scatter(prediction_probabilities[prediction_classes == 1], \n",
        "            np.zeros(len(prediction_probabilities))[ (prediction_classes ==1 ).squeeze()],\n",
        "            marker='|', alpha=0.3, s=500, label='Pneumonia', c='r')\n",
        "\n",
        "plt.scatter(prediction_probabilities[prediction_classes == 0], \n",
        "            np.zeros(len(prediction_probabilities))[(prediction_classes == 0).squeeze()],\n",
        "            marker='|', alpha=0.3, s=500, label='Normal', c='g')\n",
        "\n",
        "\n",
        "plt.legend()\n",
        "plt.xlim(0,1)\n",
        "plt.xlabel('Probibility of Pneumonia')\n",
        "\n",
        "# draw the decision threshold boundary\n",
        "plt.axvline(THRESHOLD, linestyle='dashed',c='black')\n",
        "\n",
        "plt.show()\n",
        "\n",
        "# calculate precision and recall\n",
        "tp, fn, fp, tn = confusion_matrix_scores.ravel()\n",
        "precision = tp / ( tp + fp )\n",
        "recall =  tp / ( tp + fn )\n",
        "print('precision -', precision)\n",
        "print('recall -', recall)"
      ],
      "execution_count": 0,
      "outputs": [
        {
          "output_type": "display_data",
          "data": {
            "image/png": "[encoded data removed]",
            "text/plain": [
              "<Figure size 432x288 with 2 Axes>"
            ]
          },
          "metadata": {
            "tags": []
          }
        },
        {
          "output_type": "display_data",
          "data": {
            "image/png": "[encoded data removed]",
            "text/plain": [
              "<Figure size 432x288 with 1 Axes>"
            ]
          },
          "metadata": {
            "tags": []
          }
        },
        {
          "output_type": "stream",
          "text": [
            "precision - 0.8903654485049833\n",
            "recall - 0.8993288590604027\n"
          ],
          "name": "stdout"
        }
      ]
    },
    {
      "cell_type": "code",
      "metadata": {
        "id": "VmJkYrU3_HJt",
        "colab_type": "code",
        "cellView": "form",
        "outputId": "ceb72554-940e-4f6b-c4fa-f4fd6259fb05",
        "colab": {
          "base_uri": "https://localhost:8080/",
          "height": 51
        }
      },
      "source": [
        "#@title If you wanted to absolutely minimise how many people you falsely diagnose as having pneumonia, what decision threshold would you use? (The answer you enter doesn't need to be precise.)\n",
        "threshold =  0.8#@param {type:\"number\"}\n",
        "print(threshold)\n",
        "\n",
        "if threshold >= 0.98:\n",
        "  threshold_level = 'peaked'\n",
        "elif threshold >= 0.7:\n",
        "  threshold_level = 'high'\n",
        "elif threshold >= 0.4: \n",
        "  threshold_level = 'middle'\n",
        "elif threshold >= 0.02:\n",
        "  threshold_level = 'low'\n",
        "else:\n",
        "  threshold_level = 'peaked'\n",
        "\n",
        "if threshold_level == 'peaked':\n",
        "  print(\"HINT: you don't want your threshold to be 0 or 1 (or very very close to),\\n test out what happens when you do that above and look closely at the confusion matrix.\") \n",
        "\n",
        "submit_answer('task_19', threshold_level)"
      ],
      "execution_count": 0,
      "outputs": [
        {
          "output_type": "stream",
          "text": [
            "0.8\n",
            "✔️ Correct! You can progress to the next section\n"
          ],
          "name": "stdout"
        }
      ]
    },
    {
      "cell_type": "code",
      "metadata": {
        "id": "wDXwjRDyCeZS",
        "colab_type": "code",
        "cellView": "form",
        "outputId": "f274fd7a-514f-4be4-ee7e-108480618725",
        "colab": {
          "base_uri": "https://localhost:8080/",
          "height": 51
        }
      },
      "source": [
        "#@title If the negative impact of false postives vs false negatives was roughly equal, what decision threshold would you use? (The answer you enter doesn't need to be precise.)\n",
        "threshold = 0.5 #@param {type:\"number\"}\n",
        "print(threshold)\n",
        "\n",
        "if threshold >= 0.98:\n",
        "  threshold_level = 'peaked'\n",
        "elif threshold >= 0.7:\n",
        "  threshold_level = 'high'\n",
        "elif threshold >= 0.4: \n",
        "  threshold_level = 'middle'\n",
        "elif threshold >= 0.02:\n",
        "  threshold_level = 'low'\n",
        "else:\n",
        "  threshold_level = 'peaked'\n",
        "\n",
        "if threshold_level == 'peaked':\n",
        "  print(\"HINT: you don't want your threshold to be 0 or 1 (or very very close to),\\n test out what happens when you do that above and look closely at the confusion matrix.\") \n",
        "\n",
        "submit_answer('task_20', threshold_level)"
      ],
      "execution_count": 0,
      "outputs": [
        {
          "output_type": "stream",
          "text": [
            "0.5\n",
            "✔️ Correct! You can progress to the next section\n"
          ],
          "name": "stdout"
        }
      ]
    },
    {
      "cell_type": "markdown",
      "metadata": {
        "id": "_-yMrZ797vQX",
        "colab_type": "text"
      },
      "source": [
        "## 23. When you want to simply \"deploy\" your model with its new threshold"
      ]
    },
    {
      "cell_type": "code",
      "metadata": {
        "id": "QiIDYAMeiN9K",
        "colab_type": "code",
        "outputId": "d0a1946f-2385-43ef-f3ae-2484a4a652d1",
        "colab": {
          "base_uri": "https://localhost:8080/",
          "height": 1000
        }
      },
      "source": [
        "# predict as you would normally and compare the output with your desired threshold\n",
        "model.predict(X_test) > 0.8"
      ],
      "execution_count": 0,
      "outputs": [
        {
          "output_type": "execute_result",
          "data": {
            "text/plain": [
              "array([[ True],\n",
              "       [False],\n",
              "       [ True],\n",
              "       [False],\n",
              "       [ True],\n",
              "       [ True],\n",
              "       [False],\n",
              "       [ True],\n",
              "       [False],\n",
              "       [False],\n",
              "       [False],\n",
              "       [False],\n",
              "       [ True],\n",
              "       [False],\n",
              "       [False],\n",
              "       [False],\n",
              "       [False],\n",
              "       [False],\n",
              "       [False],\n",
              "       [ True],\n",
              "       [False],\n",
              "       [False],\n",
              "       [ True],\n",
              "       [ True],\n",
              "       [False],\n",
              "       [False],\n",
              "       [False],\n",
              "       [False],\n",
              "       [False],\n",
              "       [False],\n",
              "       [False],\n",
              "       [False],\n",
              "       [False],\n",
              "       [False],\n",
              "       [False],\n",
              "       [False],\n",
              "       [False],\n",
              "       [ True],\n",
              "       [ True],\n",
              "       [False],\n",
              "       [False],\n",
              "       [False],\n",
              "       [False],\n",
              "       [False],\n",
              "       [ True],\n",
              "       [False],\n",
              "       [False],\n",
              "       [False],\n",
              "       [False],\n",
              "       [False],\n",
              "       [False],\n",
              "       [False],\n",
              "       [ True],\n",
              "       [False],\n",
              "       [False],\n",
              "       [False],\n",
              "       [False],\n",
              "       [False],\n",
              "       [ True],\n",
              "       [False],\n",
              "       [False],\n",
              "       [False],\n",
              "       [ True],\n",
              "       [ True],\n",
              "       [ True],\n",
              "       [ True],\n",
              "       [False],\n",
              "       [False],\n",
              "       [False],\n",
              "       [ True],\n",
              "       [ True],\n",
              "       [False],\n",
              "       [ True],\n",
              "       [ True],\n",
              "       [False],\n",
              "       [False],\n",
              "       [False],\n",
              "       [False],\n",
              "       [False],\n",
              "       [False],\n",
              "       [False],\n",
              "       [False],\n",
              "       [False],\n",
              "       [ True],\n",
              "       [False],\n",
              "       [False],\n",
              "       [ True],\n",
              "       [False],\n",
              "       [False],\n",
              "       [ True],\n",
              "       [False],\n",
              "       [ True],\n",
              "       [False],\n",
              "       [False],\n",
              "       [False],\n",
              "       [False],\n",
              "       [False],\n",
              "       [False],\n",
              "       [ True],\n",
              "       [ True],\n",
              "       [False],\n",
              "       [False],\n",
              "       [False],\n",
              "       [ True],\n",
              "       [False],\n",
              "       [False],\n",
              "       [False],\n",
              "       [False],\n",
              "       [False],\n",
              "       [False],\n",
              "       [False],\n",
              "       [ True],\n",
              "       [False],\n",
              "       [ True],\n",
              "       [False],\n",
              "       [False],\n",
              "       [ True],\n",
              "       [False],\n",
              "       [False],\n",
              "       [ True],\n",
              "       [False],\n",
              "       [ True],\n",
              "       [False],\n",
              "       [False],\n",
              "       [False],\n",
              "       [ True],\n",
              "       [False],\n",
              "       [False],\n",
              "       [False],\n",
              "       [False],\n",
              "       [ True],\n",
              "       [False],\n",
              "       [False],\n",
              "       [False],\n",
              "       [False],\n",
              "       [ True],\n",
              "       [ True],\n",
              "       [ True],\n",
              "       [False],\n",
              "       [ True],\n",
              "       [False],\n",
              "       [False],\n",
              "       [False],\n",
              "       [False],\n",
              "       [ True],\n",
              "       [False],\n",
              "       [False],\n",
              "       [ True],\n",
              "       [False],\n",
              "       [False],\n",
              "       [ True],\n",
              "       [False],\n",
              "       [False],\n",
              "       [ True],\n",
              "       [False],\n",
              "       [False],\n",
              "       [False],\n",
              "       [ True],\n",
              "       [False],\n",
              "       [ True],\n",
              "       [False],\n",
              "       [False],\n",
              "       [False],\n",
              "       [False],\n",
              "       [False],\n",
              "       [False],\n",
              "       [ True],\n",
              "       [ True],\n",
              "       [False],\n",
              "       [ True],\n",
              "       [ True],\n",
              "       [False],\n",
              "       [False],\n",
              "       [ True],\n",
              "       [False],\n",
              "       [ True],\n",
              "       [False],\n",
              "       [False],\n",
              "       [False],\n",
              "       [False],\n",
              "       [ True],\n",
              "       [False],\n",
              "       [False],\n",
              "       [False],\n",
              "       [False],\n",
              "       [False],\n",
              "       [ True],\n",
              "       [False],\n",
              "       [ True],\n",
              "       [ True],\n",
              "       [False],\n",
              "       [False],\n",
              "       [ True],\n",
              "       [False],\n",
              "       [False],\n",
              "       [False],\n",
              "       [ True],\n",
              "       [False],\n",
              "       [False],\n",
              "       [ True],\n",
              "       [False],\n",
              "       [False],\n",
              "       [False],\n",
              "       [False],\n",
              "       [False],\n",
              "       [False],\n",
              "       [ True],\n",
              "       [ True],\n",
              "       [ True],\n",
              "       [False],\n",
              "       [ True],\n",
              "       [False],\n",
              "       [False],\n",
              "       [False],\n",
              "       [False],\n",
              "       [False],\n",
              "       [ True],\n",
              "       [False],\n",
              "       [False],\n",
              "       [ True],\n",
              "       [False],\n",
              "       [False],\n",
              "       [False],\n",
              "       [ True],\n",
              "       [ True],\n",
              "       [ True],\n",
              "       [False],\n",
              "       [False],\n",
              "       [False],\n",
              "       [ True],\n",
              "       [ True],\n",
              "       [False],\n",
              "       [ True],\n",
              "       [ True],\n",
              "       [ True],\n",
              "       [False],\n",
              "       [ True],\n",
              "       [False],\n",
              "       [ True],\n",
              "       [False],\n",
              "       [False],\n",
              "       [False],\n",
              "       [False],\n",
              "       [False],\n",
              "       [False],\n",
              "       [False],\n",
              "       [False],\n",
              "       [ True],\n",
              "       [False],\n",
              "       [False],\n",
              "       [ True],\n",
              "       [False],\n",
              "       [False],\n",
              "       [False],\n",
              "       [ True],\n",
              "       [ True],\n",
              "       [False],\n",
              "       [False],\n",
              "       [ True],\n",
              "       [False],\n",
              "       [False],\n",
              "       [ True],\n",
              "       [False],\n",
              "       [ True],\n",
              "       [False],\n",
              "       [False],\n",
              "       [False],\n",
              "       [False],\n",
              "       [False],\n",
              "       [ True],\n",
              "       [False],\n",
              "       [False],\n",
              "       [False],\n",
              "       [ True],\n",
              "       [ True],\n",
              "       [False],\n",
              "       [False],\n",
              "       [False],\n",
              "       [False],\n",
              "       [False],\n",
              "       [False],\n",
              "       [ True],\n",
              "       [False],\n",
              "       [ True],\n",
              "       [ True],\n",
              "       [False],\n",
              "       [False],\n",
              "       [ True],\n",
              "       [False],\n",
              "       [False],\n",
              "       [False],\n",
              "       [ True],\n",
              "       [False],\n",
              "       [ True],\n",
              "       [False],\n",
              "       [False],\n",
              "       [False],\n",
              "       [False],\n",
              "       [ True],\n",
              "       [False],\n",
              "       [False],\n",
              "       [False],\n",
              "       [ True],\n",
              "       [ True],\n",
              "       [False],\n",
              "       [False],\n",
              "       [False],\n",
              "       [ True],\n",
              "       [False],\n",
              "       [False],\n",
              "       [ True],\n",
              "       [ True],\n",
              "       [False],\n",
              "       [False],\n",
              "       [False],\n",
              "       [False],\n",
              "       [False],\n",
              "       [False],\n",
              "       [ True],\n",
              "       [ True],\n",
              "       [False],\n",
              "       [ True],\n",
              "       [False],\n",
              "       [False],\n",
              "       [False],\n",
              "       [False],\n",
              "       [False],\n",
              "       [False],\n",
              "       [False],\n",
              "       [False],\n",
              "       [False],\n",
              "       [False],\n",
              "       [False],\n",
              "       [False],\n",
              "       [False],\n",
              "       [False],\n",
              "       [False],\n",
              "       [False],\n",
              "       [ True],\n",
              "       [False],\n",
              "       [False],\n",
              "       [False],\n",
              "       [ True],\n",
              "       [False],\n",
              "       [False],\n",
              "       [ True],\n",
              "       [False],\n",
              "       [ True],\n",
              "       [False],\n",
              "       [False],\n",
              "       [False],\n",
              "       [False],\n",
              "       [False],\n",
              "       [ True],\n",
              "       [False],\n",
              "       [False],\n",
              "       [ True],\n",
              "       [ True],\n",
              "       [ True],\n",
              "       [False],\n",
              "       [False],\n",
              "       [False],\n",
              "       [False],\n",
              "       [False],\n",
              "       [False],\n",
              "       [False],\n",
              "       [ True],\n",
              "       [False],\n",
              "       [False],\n",
              "       [False],\n",
              "       [False],\n",
              "       [ True],\n",
              "       [False],\n",
              "       [ True],\n",
              "       [False],\n",
              "       [False],\n",
              "       [False],\n",
              "       [False],\n",
              "       [ True],\n",
              "       [False],\n",
              "       [ True],\n",
              "       [False],\n",
              "       [False],\n",
              "       [ True],\n",
              "       [ True],\n",
              "       [False],\n",
              "       [False],\n",
              "       [False],\n",
              "       [False],\n",
              "       [ True],\n",
              "       [ True],\n",
              "       [ True],\n",
              "       [False],\n",
              "       [False],\n",
              "       [False],\n",
              "       [False],\n",
              "       [ True],\n",
              "       [ True],\n",
              "       [False],\n",
              "       [False],\n",
              "       [False],\n",
              "       [False],\n",
              "       [False],\n",
              "       [False],\n",
              "       [False],\n",
              "       [False],\n",
              "       [ True],\n",
              "       [False],\n",
              "       [ True],\n",
              "       [ True],\n",
              "       [False],\n",
              "       [False],\n",
              "       [ True],\n",
              "       [False],\n",
              "       [False],\n",
              "       [ True],\n",
              "       [False],\n",
              "       [False],\n",
              "       [ True],\n",
              "       [ True],\n",
              "       [False],\n",
              "       [False],\n",
              "       [False],\n",
              "       [ True],\n",
              "       [ True],\n",
              "       [False],\n",
              "       [ True],\n",
              "       [ True],\n",
              "       [False],\n",
              "       [ True],\n",
              "       [False],\n",
              "       [ True],\n",
              "       [ True],\n",
              "       [False],\n",
              "       [ True],\n",
              "       [False],\n",
              "       [False],\n",
              "       [False],\n",
              "       [False],\n",
              "       [ True],\n",
              "       [False],\n",
              "       [False],\n",
              "       [ True],\n",
              "       [False],\n",
              "       [False],\n",
              "       [False],\n",
              "       [False],\n",
              "       [False],\n",
              "       [False],\n",
              "       [ True],\n",
              "       [False],\n",
              "       [ True],\n",
              "       [False],\n",
              "       [False],\n",
              "       [False],\n",
              "       [False],\n",
              "       [False],\n",
              "       [False],\n",
              "       [ True],\n",
              "       [False],\n",
              "       [ True],\n",
              "       [False],\n",
              "       [False],\n",
              "       [False],\n",
              "       [False],\n",
              "       [False],\n",
              "       [False],\n",
              "       [False],\n",
              "       [False],\n",
              "       [False],\n",
              "       [False],\n",
              "       [False],\n",
              "       [False],\n",
              "       [False],\n",
              "       [False],\n",
              "       [False],\n",
              "       [False],\n",
              "       [False],\n",
              "       [False],\n",
              "       [ True],\n",
              "       [ True],\n",
              "       [False],\n",
              "       [False],\n",
              "       [False],\n",
              "       [False],\n",
              "       [ True],\n",
              "       [False],\n",
              "       [False],\n",
              "       [False],\n",
              "       [False],\n",
              "       [False],\n",
              "       [False],\n",
              "       [ True],\n",
              "       [False],\n",
              "       [False],\n",
              "       [False],\n",
              "       [False],\n",
              "       [False],\n",
              "       [False],\n",
              "       [False],\n",
              "       [ True],\n",
              "       [False],\n",
              "       [False],\n",
              "       [ True],\n",
              "       [False],\n",
              "       [False],\n",
              "       [False],\n",
              "       [False],\n",
              "       [ True],\n",
              "       [ True],\n",
              "       [False],\n",
              "       [False],\n",
              "       [False],\n",
              "       [ True],\n",
              "       [False],\n",
              "       [False],\n",
              "       [False],\n",
              "       [False],\n",
              "       [ True],\n",
              "       [ True],\n",
              "       [False],\n",
              "       [False],\n",
              "       [ True],\n",
              "       [False],\n",
              "       [False],\n",
              "       [False],\n",
              "       [False],\n",
              "       [False],\n",
              "       [False],\n",
              "       [ True],\n",
              "       [False],\n",
              "       [ True],\n",
              "       [False],\n",
              "       [False],\n",
              "       [False],\n",
              "       [False],\n",
              "       [False],\n",
              "       [False],\n",
              "       [False],\n",
              "       [False],\n",
              "       [False],\n",
              "       [False],\n",
              "       [ True],\n",
              "       [ True],\n",
              "       [ True],\n",
              "       [False],\n",
              "       [False],\n",
              "       [ True],\n",
              "       [False],\n",
              "       [False],\n",
              "       [False],\n",
              "       [False],\n",
              "       [False],\n",
              "       [False],\n",
              "       [False],\n",
              "       [False],\n",
              "       [ True],\n",
              "       [False],\n",
              "       [False],\n",
              "       [False],\n",
              "       [False],\n",
              "       [False],\n",
              "       [False],\n",
              "       [False],\n",
              "       [False],\n",
              "       [ True],\n",
              "       [ True],\n",
              "       [False],\n",
              "       [ True],\n",
              "       [False],\n",
              "       [False],\n",
              "       [ True],\n",
              "       [ True],\n",
              "       [False],\n",
              "       [False],\n",
              "       [False],\n",
              "       [False],\n",
              "       [ True],\n",
              "       [ True],\n",
              "       [False],\n",
              "       [ True],\n",
              "       [ True],\n",
              "       [False],\n",
              "       [False],\n",
              "       [False],\n",
              "       [False],\n",
              "       [False],\n",
              "       [False],\n",
              "       [False],\n",
              "       [False],\n",
              "       [ True],\n",
              "       [False],\n",
              "       [ True],\n",
              "       [ True],\n",
              "       [False],\n",
              "       [False],\n",
              "       [False],\n",
              "       [ True],\n",
              "       [False],\n",
              "       [False]])"
            ]
          },
          "metadata": {
            "tags": []
          },
          "execution_count": 68
        }
      ]
    },
    {
      "cell_type": "markdown",
      "metadata": {
        "id": "ogHBZ1oLDsNv",
        "colab_type": "text"
      },
      "source": [
        "## 24. Lesson Completed 🎉\n",
        "To recap, in this notebook we:\n",
        "\n",
        "1.   Imported data and built an image classifier\n",
        "2.   Got raw score predictions and class predictions from a model\n",
        "3.   Visualised a model performance using a confusion matrix\n",
        "4.   🌟Optimised a model decision threshold using Precision/Recall scores\n",
        "5.   Deployed a model using your desired decision threshold."
      ]
    }
  ]
}